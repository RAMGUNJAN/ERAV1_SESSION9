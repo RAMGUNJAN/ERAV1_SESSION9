{
  "nbformat": 4,
  "nbformat_minor": 0,
  "metadata": {
    "colab": {
      "provenance": [],
      "gpuType": "T4",
      "authorship_tag": "ABX9TyOE8chSPH05xRdfRogL8CU4",
      "include_colab_link": true
    },
    "kernelspec": {
      "name": "python3",
      "display_name": "Python 3"
    },
    "language_info": {
      "name": "python"
    },
    "accelerator": "GPU"
  },
  "cells": [
    {
      "cell_type": "markdown",
      "metadata": {
        "id": "view-in-github",
        "colab_type": "text"
      },
      "source": [
        "<a href=\"https://colab.research.google.com/github/RAMGUNJAN/ERAV1_SESSION9/blob/main/session_9.ipynb\" target=\"_parent\"><img src=\"https://colab.research.google.com/assets/colab-badge.svg\" alt=\"Open In Colab\"/></a>"
      ]
    },
    {
      "cell_type": "code",
      "execution_count": 1,
      "metadata": {
        "id": "6fCf4-XdHDLG"
      },
      "outputs": [],
      "source": [
        "from __future__ import print_function\n",
        "import torch\n",
        "import torch.nn as nn\n",
        "import torch.nn.functional as F\n",
        "import torch.optim as optim\n",
        "from torchvision import datasets, transforms\n",
        "\n"
      ]
    },
    {
      "cell_type": "code",
      "source": [
        "import torch\n",
        "import torch.nn as nn\n",
        "import torch.optim as optim\n",
        "from torchvision import datasets, transforms\n",
        "import albumentations as A\n",
        "from albumentations.pytorch import ToTensorV2\n",
        "import numpy as np\n",
        "\n",
        "# Load CIFAR-10 dataset\n",
        "transform = transforms.Compose([\n",
        "    transforms.ToTensor(),\n",
        "])\n",
        "\n",
        "train_dataset = datasets.CIFAR10(root='./data', train=True, download=True, transform=transform)\n",
        "test_dataset = datasets.CIFAR10(root='./data', train=False, download=True, transform=transform)\n",
        "\n",
        "# Calculate the mean of the CIFAR-10 dataset\n",
        "data_loader = torch.utils.data.DataLoader(train_dataset, batch_size=len(train_dataset), shuffle=False)\n",
        "mean_value = 0.0\n",
        "for images, _ in data_loader:\n",
        "    mean_value = images.mean(dim=(0, 2, 3))\n",
        "\n",
        "# Define Albumentations transformations\n",
        "transform = A.Compose([\n",
        "    A.HorizontalFlip(p=0.5),\n",
        "    A.ShiftScaleRotate(shift_limit=0.0625, scale_limit=0.1, rotate_limit=15, p=0.5),\n",
        "    A.CoarseDropout(max_holes=1, max_height=16, max_width=16, min_holes=1, min_height=16, min_width=16,\n",
        "                    fill_value=tuple(mean_value.tolist()), mask_fill_value=None),\n",
        "    ToTensorV2(),\n",
        "], additional_targets={'image2': 'image'})\n",
        "\n",
        "# Apply the transformations to the CIFAR-10 dataset\n",
        "augmented_train_dataset = []\n",
        "for image, label in train_dataset:\n",
        "    image_np = np.transpose(image.numpy(), (1, 2, 0))  # Convert from (C, H, W) to (H, W, C)\n",
        "    augmented = transform(image=image_np, image2=image_np)\n",
        "    augmented_image = augmented[\"image\"]\n",
        "    augmented_label = label\n",
        "    augmented_train_dataset.append((augmented_image, augmented_label))\n",
        "\n",
        "# Apply the transformations to the test dataset as well\n",
        "augmented_test_dataset = []\n",
        "for image, label in test_dataset:\n",
        "    image_np = np.transpose(image.numpy(), (1, 2, 0))  # Convert from (C, H, W) to (H, W, C)\n",
        "    augmented = transform(image=image_np, image2=image_np)\n",
        "    augmented_image = augmented[\"image\"]\n",
        "    augmented_label = label\n",
        "    augmented_test_dataset.append((augmented_image, augmented_label))\n",
        "\n",
        "# Create DataLoader for training and testing\n",
        "batch_size = 64\n",
        "train_loader = torch.utils.data.DataLoader(augmented_train_dataset, batch_size=batch_size, shuffle=True)\n",
        "test_loader = torch.utils.data.DataLoader(augmented_test_dataset, batch_size=batch_size, shuffle=False)\n",
        "\n",
        "# Now, 'train_loader' and 'test_loader' contain the augmented datasets that you can use for training and testing your model.\n",
        "\n"
      ],
      "metadata": {
        "colab": {
          "base_uri": "https://localhost:8080/"
        },
        "id": "I3XWHo51Hmn-",
        "outputId": "5e9306dc-774f-49de-a003-e037b5bb576d"
      },
      "execution_count": 2,
      "outputs": [
        {
          "output_type": "stream",
          "name": "stdout",
          "text": [
            "Downloading https://www.cs.toronto.edu/~kriz/cifar-10-python.tar.gz to ./data/cifar-10-python.tar.gz\n"
          ]
        },
        {
          "output_type": "stream",
          "name": "stderr",
          "text": [
            "100%|██████████| 170498071/170498071 [00:06<00:00, 26952503.20it/s]\n"
          ]
        },
        {
          "output_type": "stream",
          "name": "stdout",
          "text": [
            "Extracting ./data/cifar-10-python.tar.gz to ./data\n",
            "Files already downloaded and verified\n"
          ]
        }
      ]
    },
    {
      "cell_type": "code",
      "source": [
        "from google.colab import files\n",
        "files.upload()"
      ],
      "metadata": {
        "colab": {
          "base_uri": "https://localhost:8080/",
          "height": 368
        },
        "id": "mTuZKtT2HuDG",
        "outputId": "d8ab08aa-e693-4dc8-ff73-5f482e3fe43d"
      },
      "execution_count": 3,
      "outputs": [
        {
          "output_type": "display_data",
          "data": {
            "text/plain": [
              "<IPython.core.display.HTML object>"
            ],
            "text/html": [
              "\n",
              "     <input type=\"file\" id=\"files-45b5e222-1f6c-407a-a234-182181c94cf5\" name=\"files[]\" multiple disabled\n",
              "        style=\"border:none\" />\n",
              "     <output id=\"result-45b5e222-1f6c-407a-a234-182181c94cf5\">\n",
              "      Upload widget is only available when the cell has been executed in the\n",
              "      current browser session. Please rerun this cell to enable.\n",
              "      </output>\n",
              "      <script>// Copyright 2017 Google LLC\n",
              "//\n",
              "// Licensed under the Apache License, Version 2.0 (the \"License\");\n",
              "// you may not use this file except in compliance with the License.\n",
              "// You may obtain a copy of the License at\n",
              "//\n",
              "//      http://www.apache.org/licenses/LICENSE-2.0\n",
              "//\n",
              "// Unless required by applicable law or agreed to in writing, software\n",
              "// distributed under the License is distributed on an \"AS IS\" BASIS,\n",
              "// WITHOUT WARRANTIES OR CONDITIONS OF ANY KIND, either express or implied.\n",
              "// See the License for the specific language governing permissions and\n",
              "// limitations under the License.\n",
              "\n",
              "/**\n",
              " * @fileoverview Helpers for google.colab Python module.\n",
              " */\n",
              "(function(scope) {\n",
              "function span(text, styleAttributes = {}) {\n",
              "  const element = document.createElement('span');\n",
              "  element.textContent = text;\n",
              "  for (const key of Object.keys(styleAttributes)) {\n",
              "    element.style[key] = styleAttributes[key];\n",
              "  }\n",
              "  return element;\n",
              "}\n",
              "\n",
              "// Max number of bytes which will be uploaded at a time.\n",
              "const MAX_PAYLOAD_SIZE = 100 * 1024;\n",
              "\n",
              "function _uploadFiles(inputId, outputId) {\n",
              "  const steps = uploadFilesStep(inputId, outputId);\n",
              "  const outputElement = document.getElementById(outputId);\n",
              "  // Cache steps on the outputElement to make it available for the next call\n",
              "  // to uploadFilesContinue from Python.\n",
              "  outputElement.steps = steps;\n",
              "\n",
              "  return _uploadFilesContinue(outputId);\n",
              "}\n",
              "\n",
              "// This is roughly an async generator (not supported in the browser yet),\n",
              "// where there are multiple asynchronous steps and the Python side is going\n",
              "// to poll for completion of each step.\n",
              "// This uses a Promise to block the python side on completion of each step,\n",
              "// then passes the result of the previous step as the input to the next step.\n",
              "function _uploadFilesContinue(outputId) {\n",
              "  const outputElement = document.getElementById(outputId);\n",
              "  const steps = outputElement.steps;\n",
              "\n",
              "  const next = steps.next(outputElement.lastPromiseValue);\n",
              "  return Promise.resolve(next.value.promise).then((value) => {\n",
              "    // Cache the last promise value to make it available to the next\n",
              "    // step of the generator.\n",
              "    outputElement.lastPromiseValue = value;\n",
              "    return next.value.response;\n",
              "  });\n",
              "}\n",
              "\n",
              "/**\n",
              " * Generator function which is called between each async step of the upload\n",
              " * process.\n",
              " * @param {string} inputId Element ID of the input file picker element.\n",
              " * @param {string} outputId Element ID of the output display.\n",
              " * @return {!Iterable<!Object>} Iterable of next steps.\n",
              " */\n",
              "function* uploadFilesStep(inputId, outputId) {\n",
              "  const inputElement = document.getElementById(inputId);\n",
              "  inputElement.disabled = false;\n",
              "\n",
              "  const outputElement = document.getElementById(outputId);\n",
              "  outputElement.innerHTML = '';\n",
              "\n",
              "  const pickedPromise = new Promise((resolve) => {\n",
              "    inputElement.addEventListener('change', (e) => {\n",
              "      resolve(e.target.files);\n",
              "    });\n",
              "  });\n",
              "\n",
              "  const cancel = document.createElement('button');\n",
              "  inputElement.parentElement.appendChild(cancel);\n",
              "  cancel.textContent = 'Cancel upload';\n",
              "  const cancelPromise = new Promise((resolve) => {\n",
              "    cancel.onclick = () => {\n",
              "      resolve(null);\n",
              "    };\n",
              "  });\n",
              "\n",
              "  // Wait for the user to pick the files.\n",
              "  const files = yield {\n",
              "    promise: Promise.race([pickedPromise, cancelPromise]),\n",
              "    response: {\n",
              "      action: 'starting',\n",
              "    }\n",
              "  };\n",
              "\n",
              "  cancel.remove();\n",
              "\n",
              "  // Disable the input element since further picks are not allowed.\n",
              "  inputElement.disabled = true;\n",
              "\n",
              "  if (!files) {\n",
              "    return {\n",
              "      response: {\n",
              "        action: 'complete',\n",
              "      }\n",
              "    };\n",
              "  }\n",
              "\n",
              "  for (const file of files) {\n",
              "    const li = document.createElement('li');\n",
              "    li.append(span(file.name, {fontWeight: 'bold'}));\n",
              "    li.append(span(\n",
              "        `(${file.type || 'n/a'}) - ${file.size} bytes, ` +\n",
              "        `last modified: ${\n",
              "            file.lastModifiedDate ? file.lastModifiedDate.toLocaleDateString() :\n",
              "                                    'n/a'} - `));\n",
              "    const percent = span('0% done');\n",
              "    li.appendChild(percent);\n",
              "\n",
              "    outputElement.appendChild(li);\n",
              "\n",
              "    const fileDataPromise = new Promise((resolve) => {\n",
              "      const reader = new FileReader();\n",
              "      reader.onload = (e) => {\n",
              "        resolve(e.target.result);\n",
              "      };\n",
              "      reader.readAsArrayBuffer(file);\n",
              "    });\n",
              "    // Wait for the data to be ready.\n",
              "    let fileData = yield {\n",
              "      promise: fileDataPromise,\n",
              "      response: {\n",
              "        action: 'continue',\n",
              "      }\n",
              "    };\n",
              "\n",
              "    // Use a chunked sending to avoid message size limits. See b/62115660.\n",
              "    let position = 0;\n",
              "    do {\n",
              "      const length = Math.min(fileData.byteLength - position, MAX_PAYLOAD_SIZE);\n",
              "      const chunk = new Uint8Array(fileData, position, length);\n",
              "      position += length;\n",
              "\n",
              "      const base64 = btoa(String.fromCharCode.apply(null, chunk));\n",
              "      yield {\n",
              "        response: {\n",
              "          action: 'append',\n",
              "          file: file.name,\n",
              "          data: base64,\n",
              "        },\n",
              "      };\n",
              "\n",
              "      let percentDone = fileData.byteLength === 0 ?\n",
              "          100 :\n",
              "          Math.round((position / fileData.byteLength) * 100);\n",
              "      percent.textContent = `${percentDone}% done`;\n",
              "\n",
              "    } while (position < fileData.byteLength);\n",
              "  }\n",
              "\n",
              "  // All done.\n",
              "  yield {\n",
              "    response: {\n",
              "      action: 'complete',\n",
              "    }\n",
              "  };\n",
              "}\n",
              "\n",
              "scope.google = scope.google || {};\n",
              "scope.google.colab = scope.google.colab || {};\n",
              "scope.google.colab._files = {\n",
              "  _uploadFiles,\n",
              "  _uploadFilesContinue,\n",
              "};\n",
              "})(self);\n",
              "</script> "
            ]
          },
          "metadata": {}
        },
        {
          "output_type": "stream",
          "name": "stdout",
          "text": [
            "Saving modell.py to modell.py\n"
          ]
        },
        {
          "output_type": "execute_result",
          "data": {
            "text/plain": [
              "{'modell.py': b'# -*- coding: utf-8 -*-\\n\"\"\"model.ipynb\\n\\nAutomatically generated by Colaboratory.\\n\\nOriginal file is located at\\n    https://colab.research.google.com/drive/1X9hX6zn4vsbh_GA7cygaDv2ruEIBKk2Z\\n\"\"\"\\n\\nimport torch.nn as nn\\nimport torch.nn.functional as F\\n\\nclass ConvBlock(nn.Module):\\n    def __init__(self, in_channels, out_channels):\\n        super(ConvBlock, self).__init__()\\n        self.conv1 = nn.Conv2d(in_channels, out_channels, kernel_size=3, padding=1)\\n        self.conv2 = nn.Conv2d(out_channels, out_channels, kernel_size=3, padding=1)\\n        self.conv3 = nn.Conv2d(out_channels, out_channels, kernel_size=3, dilation=2)\\n        self.bn1 = nn.BatchNorm2d(out_channels)\\n        self.bn2 = nn.BatchNorm2d(out_channels)\\n        self.bn3 = nn.BatchNorm2d(out_channels)\\n        self.dropout = nn.Dropout(0.1)\\n\\n    def forward(self, x):\\n        x = F.relu(self.bn1(self.conv1(x)))\\n        x = F.relu(self.bn2(self.conv2(x)))\\n        x = F.relu(self.bn3(self.conv3(x)))\\n        x = self.dropout(x)\\n        return x\\n\\n\\nclass DepthwiseSeparableConvBlock(nn.Module):\\n    def __init__(self, in_channels, out_channels):\\n        super(DepthwiseSeparableConvBlock, self).__init__()\\n        self.depthwise_conv = nn.Conv2d(in_channels, in_channels, kernel_size=3, padding=1, groups=in_channels)\\n        self.pointwise_conv = nn.Conv2d(in_channels, out_channels, kernel_size=1)\\n        self.bn1 = nn.BatchNorm2d(in_channels)\\n        self.bn2 = nn.BatchNorm2d(out_channels)\\n        self.dropout = nn.Dropout(0.1)\\n\\n    def forward(self, x):\\n        x = F.relu(self.bn1(self.depthwise_conv(x)))\\n        x = F.relu(self.bn2(self.pointwise_conv(x)))\\n        x = self.dropout(x)\\n        return x\\n\\n\\nclass MyCNN(nn.Module):\\n    def __init__(self, num_classes):\\n        super(MyCNN, self).__init__()\\n\\n        # C1\\n        self.block1 = ConvBlock(3, 10)\\n\\n        # C2\\n        self.block2 = ConvBlock(10, 20)\\n\\n        # C3 with Depthwise Separable Convolution\\n        self.block3 = nn.Sequential(\\n            ConvBlock(20, 40),\\n            DepthwiseSeparableConvBlock(40, 40)  # Depthwise Separable Convolution Block\\n        )\\n\\n        # C4\\n        self.block4 = ConvBlock(40, 80)\\n\\n        # Global Average Pooling\\n        self.global_avg_pool = nn.AdaptiveAvgPool2d((1, 1))\\n\\n        # Output FC layer\\n        self.fc = nn.Linear(80, num_classes)\\n\\n    def forward(self, x):\\n        # C1\\n        x = self.block1(x)\\n\\n        # C2\\n        x = self.block2(x)\\n\\n        # C3\\n        x = self.block3(x)\\n\\n        # C4\\n        x = self.block4(x)\\n\\n        # Global Average Pooling\\n        x = self.global_avg_pool(x)\\n\\n        # Flatten the output for the fully connected layer\\n        x = x.view(-1, 80)\\n\\n        # Output FC layer\\n        x = self.fc(x)\\n\\n        return x'}"
            ]
          },
          "metadata": {},
          "execution_count": 3
        }
      ]
    },
    {
      "cell_type": "code",
      "source": [
        "import modell\n",
        "!pip install torchsummary\n",
        "from torchsummary import summary\n",
        "use_cuda = torch.cuda.is_available()\n",
        "device = torch.device(\"cuda\" if use_cuda else \"cpu\")\n",
        "print(device)\n",
        "\n",
        "model = modell.MyCNN(10).to(device)\n",
        "summary(model, input_size=(3, 32, 32))"
      ],
      "metadata": {
        "colab": {
          "base_uri": "https://localhost:8080/"
        },
        "id": "iZTW5mpQIBPF",
        "outputId": "ffb514b8-9a3e-4696-d3af-1851b35372b4"
      },
      "execution_count": 4,
      "outputs": [
        {
          "output_type": "stream",
          "name": "stdout",
          "text": [
            "Requirement already satisfied: torchsummary in /usr/local/lib/python3.10/dist-packages (1.5.1)\n",
            "cuda\n",
            "----------------------------------------------------------------\n",
            "        Layer (type)               Output Shape         Param #\n",
            "================================================================\n",
            "            Conv2d-1           [-1, 10, 32, 32]             280\n",
            "       BatchNorm2d-2           [-1, 10, 32, 32]              20\n",
            "            Conv2d-3           [-1, 10, 32, 32]             910\n",
            "       BatchNorm2d-4           [-1, 10, 32, 32]              20\n",
            "            Conv2d-5           [-1, 10, 28, 28]             910\n",
            "       BatchNorm2d-6           [-1, 10, 28, 28]              20\n",
            "           Dropout-7           [-1, 10, 28, 28]               0\n",
            "         ConvBlock-8           [-1, 10, 28, 28]               0\n",
            "            Conv2d-9           [-1, 20, 28, 28]           1,820\n",
            "      BatchNorm2d-10           [-1, 20, 28, 28]              40\n",
            "           Conv2d-11           [-1, 20, 28, 28]           3,620\n",
            "      BatchNorm2d-12           [-1, 20, 28, 28]              40\n",
            "           Conv2d-13           [-1, 20, 24, 24]           3,620\n",
            "      BatchNorm2d-14           [-1, 20, 24, 24]              40\n",
            "          Dropout-15           [-1, 20, 24, 24]               0\n",
            "        ConvBlock-16           [-1, 20, 24, 24]               0\n",
            "           Conv2d-17           [-1, 40, 24, 24]           7,240\n",
            "      BatchNorm2d-18           [-1, 40, 24, 24]              80\n",
            "           Conv2d-19           [-1, 40, 24, 24]          14,440\n",
            "      BatchNorm2d-20           [-1, 40, 24, 24]              80\n",
            "           Conv2d-21           [-1, 40, 20, 20]          14,440\n",
            "      BatchNorm2d-22           [-1, 40, 20, 20]              80\n",
            "          Dropout-23           [-1, 40, 20, 20]               0\n",
            "        ConvBlock-24           [-1, 40, 20, 20]               0\n",
            "           Conv2d-25           [-1, 40, 20, 20]             400\n",
            "      BatchNorm2d-26           [-1, 40, 20, 20]              80\n",
            "           Conv2d-27           [-1, 40, 20, 20]           1,640\n",
            "      BatchNorm2d-28           [-1, 40, 20, 20]              80\n",
            "          Dropout-29           [-1, 40, 20, 20]               0\n",
            "DepthwiseSeparableConvBlock-30           [-1, 40, 20, 20]               0\n",
            "           Conv2d-31           [-1, 80, 20, 20]          28,880\n",
            "      BatchNorm2d-32           [-1, 80, 20, 20]             160\n",
            "           Conv2d-33           [-1, 80, 20, 20]          57,680\n",
            "      BatchNorm2d-34           [-1, 80, 20, 20]             160\n",
            "           Conv2d-35           [-1, 80, 16, 16]          57,680\n",
            "      BatchNorm2d-36           [-1, 80, 16, 16]             160\n",
            "          Dropout-37           [-1, 80, 16, 16]               0\n",
            "        ConvBlock-38           [-1, 80, 16, 16]               0\n",
            "AdaptiveAvgPool2d-39             [-1, 80, 1, 1]               0\n",
            "           Linear-40                   [-1, 10]             810\n",
            "================================================================\n",
            "Total params: 195,430\n",
            "Trainable params: 195,430\n",
            "Non-trainable params: 0\n",
            "----------------------------------------------------------------\n",
            "Input size (MB): 0.01\n",
            "Forward/backward pass size (MB): 4.91\n",
            "Params size (MB): 0.75\n",
            "Estimated Total Size (MB): 5.67\n",
            "----------------------------------------------------------------\n"
          ]
        }
      ]
    },
    {
      "cell_type": "code",
      "source": [
        "from tqdm import tqdm\n",
        "import torch.nn.functional as F\n",
        "\n",
        "train_losses = []\n",
        "test_losses = []\n",
        "train_acc = []\n",
        "test_acc = []\n",
        "\n",
        "def train(model, device, train_loader, optimizer, epoch):\n",
        "    model.train()\n",
        "    pbar = tqdm(train_loader)\n",
        "    correct = 0\n",
        "    processed = 0\n",
        "    for batch_idx, (data, target) in enumerate(pbar):\n",
        "        # get samples\n",
        "        data, target = data.to(device), target.to(device)\n",
        "\n",
        "        # Init\n",
        "        optimizer.zero_grad()\n",
        "\n",
        "        # Predict\n",
        "        y_pred = model(data)\n",
        "\n",
        "        # Calculate loss\n",
        "        loss = F.cross_entropy(y_pred, target)\n",
        "        train_losses.append(loss.item())\n",
        "\n",
        "        # Backpropagation\n",
        "        loss.backward()\n",
        "        optimizer.step()\n",
        "\n",
        "        # Update pbar-tqdm\n",
        "        pred = y_pred.argmax(dim=1, keepdim=True)\n",
        "        correct += pred.eq(target.view_as(pred)).sum().item()\n",
        "        processed += len(data)\n",
        "\n",
        "        pbar.set_description(desc=f'Loss={loss.item()} Batch_id={batch_idx} Accuracy={100*correct/processed:0.2f}')\n",
        "        train_acc.append(100*correct/processed)\n",
        "\n",
        "def test(model, device, test_loader):\n",
        "    model.eval()\n",
        "    test_loss = 0\n",
        "    correct = 0\n",
        "    with torch.no_grad():\n",
        "        for data, target in test_loader:\n",
        "            data, target = data.to(device), target.to(device)\n",
        "            output = model(data)\n",
        "            test_loss += F.cross_entropy(output, target, reduction='sum').item()\n",
        "            pred = output.argmax(dim=1, keepdim=True)\n",
        "            correct += pred.eq(target.view_as(pred)).sum().item()\n",
        "\n",
        "    test_loss /= len(test_loader.dataset)\n",
        "    test_losses.append(test_loss)\n",
        "\n",
        "    print('\\nTest set: Average loss: {:.4f}, Accuracy: {}/{} ({:.2f}%)\\n'.format(\n",
        "        test_loss, correct, len(test_loader.dataset),\n",
        "        100. * correct / len(test_loader.dataset)))\n",
        "\n",
        "    test_acc.append(100. * correct / len(test_loader.dataset))"
      ],
      "metadata": {
        "id": "WyZOw4JxIbvJ"
      },
      "execution_count": 5,
      "outputs": []
    },
    {
      "cell_type": "code",
      "source": [
        "import modell\n",
        "EPOCHS=60\n",
        "\n",
        "# Initialize the model, optimizer, and device as before\n",
        "model = modell.MyCNN(10).to(device)\n",
        "optimizer = optim.SGD(model.parameters(), lr=0.01, momentum=0.9)\n",
        "\n",
        "# Training loop\n",
        "for epoch in range(EPOCHS):\n",
        "    print(\"EPOCH:\", epoch)\n",
        "    train(model, device, train_loader, optimizer, epoch)\n",
        "    test(model, device, test_loader)\n"
      ],
      "metadata": {
        "colab": {
          "base_uri": "https://localhost:8080/"
        },
        "id": "X6ZGTL2qIflq",
        "outputId": "9c2ea64c-00d8-4a5f-8bbf-17b48fda3e47"
      },
      "execution_count": 7,
      "outputs": [
        {
          "output_type": "stream",
          "name": "stdout",
          "text": [
            "EPOCH: 0\n"
          ]
        },
        {
          "output_type": "stream",
          "name": "stderr",
          "text": [
            "Loss=1.6844738721847534 Batch_id=781 Accuracy=33.83: 100%|██████████| 782/782 [00:17<00:00, 44.97it/s]\n"
          ]
        },
        {
          "output_type": "stream",
          "name": "stdout",
          "text": [
            "\n",
            "Test set: Average loss: 1.6657, Accuracy: 3693/10000 (36.93%)\n",
            "\n",
            "EPOCH: 1\n"
          ]
        },
        {
          "output_type": "stream",
          "name": "stderr",
          "text": [
            "Loss=1.8205900192260742 Batch_id=781 Accuracy=45.27: 100%|██████████| 782/782 [00:17<00:00, 44.12it/s]\n"
          ]
        },
        {
          "output_type": "stream",
          "name": "stdout",
          "text": [
            "\n",
            "Test set: Average loss: 1.5421, Accuracy: 4248/10000 (42.48%)\n",
            "\n",
            "EPOCH: 2\n"
          ]
        },
        {
          "output_type": "stream",
          "name": "stderr",
          "text": [
            "Loss=1.594107985496521 Batch_id=781 Accuracy=50.37: 100%|██████████| 782/782 [00:17<00:00, 45.01it/s]\n"
          ]
        },
        {
          "output_type": "stream",
          "name": "stdout",
          "text": [
            "\n",
            "Test set: Average loss: 1.5332, Accuracy: 4423/10000 (44.23%)\n",
            "\n",
            "EPOCH: 3\n"
          ]
        },
        {
          "output_type": "stream",
          "name": "stderr",
          "text": [
            "Loss=1.7956854104995728 Batch_id=781 Accuracy=54.11: 100%|██████████| 782/782 [00:17<00:00, 45.65it/s]\n"
          ]
        },
        {
          "output_type": "stream",
          "name": "stdout",
          "text": [
            "\n",
            "Test set: Average loss: 1.4110, Accuracy: 5051/10000 (50.51%)\n",
            "\n",
            "EPOCH: 4\n"
          ]
        },
        {
          "output_type": "stream",
          "name": "stderr",
          "text": [
            "Loss=1.356358528137207 Batch_id=781 Accuracy=57.31: 100%|██████████| 782/782 [00:17<00:00, 45.34it/s]\n"
          ]
        },
        {
          "output_type": "stream",
          "name": "stdout",
          "text": [
            "\n",
            "Test set: Average loss: 1.2206, Accuracy: 5602/10000 (56.02%)\n",
            "\n",
            "EPOCH: 5\n"
          ]
        },
        {
          "output_type": "stream",
          "name": "stderr",
          "text": [
            "Loss=1.0522611141204834 Batch_id=781 Accuracy=59.55: 100%|██████████| 782/782 [00:17<00:00, 44.99it/s]\n"
          ]
        },
        {
          "output_type": "stream",
          "name": "stdout",
          "text": [
            "\n",
            "Test set: Average loss: 1.3146, Accuracy: 5383/10000 (53.83%)\n",
            "\n",
            "EPOCH: 6\n"
          ]
        },
        {
          "output_type": "stream",
          "name": "stderr",
          "text": [
            "Loss=1.1948914527893066 Batch_id=781 Accuracy=61.31: 100%|██████████| 782/782 [00:17<00:00, 45.10it/s]\n"
          ]
        },
        {
          "output_type": "stream",
          "name": "stdout",
          "text": [
            "\n",
            "Test set: Average loss: 1.1575, Accuracy: 5864/10000 (58.64%)\n",
            "\n",
            "EPOCH: 7\n"
          ]
        },
        {
          "output_type": "stream",
          "name": "stderr",
          "text": [
            "Loss=0.7601083517074585 Batch_id=781 Accuracy=63.29: 100%|██████████| 782/782 [00:17<00:00, 45.01it/s]\n"
          ]
        },
        {
          "output_type": "stream",
          "name": "stdout",
          "text": [
            "\n",
            "Test set: Average loss: 1.0644, Accuracy: 6237/10000 (62.37%)\n",
            "\n",
            "EPOCH: 8\n"
          ]
        },
        {
          "output_type": "stream",
          "name": "stderr",
          "text": [
            "Loss=1.4440418481826782 Batch_id=781 Accuracy=64.28: 100%|██████████| 782/782 [00:17<00:00, 45.09it/s]\n"
          ]
        },
        {
          "output_type": "stream",
          "name": "stdout",
          "text": [
            "\n",
            "Test set: Average loss: 1.1209, Accuracy: 6054/10000 (60.54%)\n",
            "\n",
            "EPOCH: 9\n"
          ]
        },
        {
          "output_type": "stream",
          "name": "stderr",
          "text": [
            "Loss=0.9961851239204407 Batch_id=781 Accuracy=65.44: 100%|██████████| 782/782 [00:17<00:00, 45.10it/s]\n"
          ]
        },
        {
          "output_type": "stream",
          "name": "stdout",
          "text": [
            "\n",
            "Test set: Average loss: 1.0900, Accuracy: 6143/10000 (61.43%)\n",
            "\n",
            "EPOCH: 10\n"
          ]
        },
        {
          "output_type": "stream",
          "name": "stderr",
          "text": [
            "Loss=1.0694332122802734 Batch_id=781 Accuracy=66.47: 100%|██████████| 782/782 [00:17<00:00, 45.14it/s]\n"
          ]
        },
        {
          "output_type": "stream",
          "name": "stdout",
          "text": [
            "\n",
            "Test set: Average loss: 1.0972, Accuracy: 6148/10000 (61.48%)\n",
            "\n",
            "EPOCH: 11\n"
          ]
        },
        {
          "output_type": "stream",
          "name": "stderr",
          "text": [
            "Loss=0.669249951839447 Batch_id=781 Accuracy=67.53: 100%|██████████| 782/782 [00:17<00:00, 44.96it/s]\n"
          ]
        },
        {
          "output_type": "stream",
          "name": "stdout",
          "text": [
            "\n",
            "Test set: Average loss: 1.1177, Accuracy: 6077/10000 (60.77%)\n",
            "\n",
            "EPOCH: 12\n"
          ]
        },
        {
          "output_type": "stream",
          "name": "stderr",
          "text": [
            "Loss=1.4776272773742676 Batch_id=781 Accuracy=68.30: 100%|██████████| 782/782 [00:17<00:00, 45.16it/s]\n"
          ]
        },
        {
          "output_type": "stream",
          "name": "stdout",
          "text": [
            "\n",
            "Test set: Average loss: 0.9512, Accuracy: 6635/10000 (66.35%)\n",
            "\n",
            "EPOCH: 13\n"
          ]
        },
        {
          "output_type": "stream",
          "name": "stderr",
          "text": [
            "Loss=1.0643374919891357 Batch_id=781 Accuracy=68.74: 100%|██████████| 782/782 [00:17<00:00, 45.02it/s]\n"
          ]
        },
        {
          "output_type": "stream",
          "name": "stdout",
          "text": [
            "\n",
            "Test set: Average loss: 1.1927, Accuracy: 6032/10000 (60.32%)\n",
            "\n",
            "EPOCH: 14\n"
          ]
        },
        {
          "output_type": "stream",
          "name": "stderr",
          "text": [
            "Loss=1.165575385093689 Batch_id=781 Accuracy=69.53: 100%|██████████| 782/782 [00:17<00:00, 45.11it/s]\n"
          ]
        },
        {
          "output_type": "stream",
          "name": "stdout",
          "text": [
            "\n",
            "Test set: Average loss: 0.9679, Accuracy: 6668/10000 (66.68%)\n",
            "\n",
            "EPOCH: 15\n"
          ]
        },
        {
          "output_type": "stream",
          "name": "stderr",
          "text": [
            "Loss=0.7050583958625793 Batch_id=781 Accuracy=70.22: 100%|██████████| 782/782 [00:17<00:00, 45.08it/s]\n"
          ]
        },
        {
          "output_type": "stream",
          "name": "stdout",
          "text": [
            "\n",
            "Test set: Average loss: 0.9333, Accuracy: 6716/10000 (67.16%)\n",
            "\n",
            "EPOCH: 16\n"
          ]
        },
        {
          "output_type": "stream",
          "name": "stderr",
          "text": [
            "Loss=0.6062784790992737 Batch_id=781 Accuracy=70.60: 100%|██████████| 782/782 [00:17<00:00, 45.38it/s]\n"
          ]
        },
        {
          "output_type": "stream",
          "name": "stdout",
          "text": [
            "\n",
            "Test set: Average loss: 1.0169, Accuracy: 6459/10000 (64.59%)\n",
            "\n",
            "EPOCH: 17\n"
          ]
        },
        {
          "output_type": "stream",
          "name": "stderr",
          "text": [
            "Loss=0.7951328754425049 Batch_id=781 Accuracy=71.11: 100%|██████████| 782/782 [00:17<00:00, 45.13it/s]\n"
          ]
        },
        {
          "output_type": "stream",
          "name": "stdout",
          "text": [
            "\n",
            "Test set: Average loss: 0.9374, Accuracy: 6720/10000 (67.20%)\n",
            "\n",
            "EPOCH: 18\n"
          ]
        },
        {
          "output_type": "stream",
          "name": "stderr",
          "text": [
            "Loss=0.8138958811759949 Batch_id=781 Accuracy=71.46: 100%|██████████| 782/782 [00:17<00:00, 45.29it/s]\n"
          ]
        },
        {
          "output_type": "stream",
          "name": "stdout",
          "text": [
            "\n",
            "Test set: Average loss: 0.9134, Accuracy: 6793/10000 (67.93%)\n",
            "\n",
            "EPOCH: 19\n"
          ]
        },
        {
          "output_type": "stream",
          "name": "stderr",
          "text": [
            "Loss=0.6688334345817566 Batch_id=781 Accuracy=71.88: 100%|██████████| 782/782 [00:17<00:00, 45.00it/s]\n"
          ]
        },
        {
          "output_type": "stream",
          "name": "stdout",
          "text": [
            "\n",
            "Test set: Average loss: 0.9547, Accuracy: 6621/10000 (66.21%)\n",
            "\n",
            "EPOCH: 20\n"
          ]
        },
        {
          "output_type": "stream",
          "name": "stderr",
          "text": [
            "Loss=0.9815205335617065 Batch_id=781 Accuracy=72.15: 100%|██████████| 782/782 [00:17<00:00, 45.14it/s]\n"
          ]
        },
        {
          "output_type": "stream",
          "name": "stdout",
          "text": [
            "\n",
            "Test set: Average loss: 0.9459, Accuracy: 6661/10000 (66.61%)\n",
            "\n",
            "EPOCH: 21\n"
          ]
        },
        {
          "output_type": "stream",
          "name": "stderr",
          "text": [
            "Loss=0.7126675844192505 Batch_id=781 Accuracy=72.89: 100%|██████████| 782/782 [00:17<00:00, 44.66it/s]\n"
          ]
        },
        {
          "output_type": "stream",
          "name": "stdout",
          "text": [
            "\n",
            "Test set: Average loss: 0.9249, Accuracy: 6734/10000 (67.34%)\n",
            "\n",
            "EPOCH: 22\n"
          ]
        },
        {
          "output_type": "stream",
          "name": "stderr",
          "text": [
            "Loss=0.8954877257347107 Batch_id=781 Accuracy=73.15: 100%|██████████| 782/782 [00:17<00:00, 45.11it/s]\n"
          ]
        },
        {
          "output_type": "stream",
          "name": "stdout",
          "text": [
            "\n",
            "Test set: Average loss: 0.9166, Accuracy: 6802/10000 (68.02%)\n",
            "\n",
            "EPOCH: 23\n"
          ]
        },
        {
          "output_type": "stream",
          "name": "stderr",
          "text": [
            "Loss=0.23727361857891083 Batch_id=781 Accuracy=73.36: 100%|██████████| 782/782 [00:17<00:00, 45.08it/s]\n"
          ]
        },
        {
          "output_type": "stream",
          "name": "stdout",
          "text": [
            "\n",
            "Test set: Average loss: 0.9132, Accuracy: 6770/10000 (67.70%)\n",
            "\n",
            "EPOCH: 24\n"
          ]
        },
        {
          "output_type": "stream",
          "name": "stderr",
          "text": [
            "Loss=0.7030548453330994 Batch_id=781 Accuracy=73.64: 100%|██████████| 782/782 [00:17<00:00, 45.09it/s]\n"
          ]
        },
        {
          "output_type": "stream",
          "name": "stdout",
          "text": [
            "\n",
            "Test set: Average loss: 0.9011, Accuracy: 6768/10000 (67.68%)\n",
            "\n",
            "EPOCH: 25\n"
          ]
        },
        {
          "output_type": "stream",
          "name": "stderr",
          "text": [
            "Loss=1.0098963975906372 Batch_id=781 Accuracy=74.28: 100%|██████████| 782/782 [00:17<00:00, 44.92it/s]\n"
          ]
        },
        {
          "output_type": "stream",
          "name": "stdout",
          "text": [
            "\n",
            "Test set: Average loss: 0.9579, Accuracy: 6616/10000 (66.16%)\n",
            "\n",
            "EPOCH: 26\n"
          ]
        },
        {
          "output_type": "stream",
          "name": "stderr",
          "text": [
            "Loss=0.25256478786468506 Batch_id=781 Accuracy=74.48: 100%|██████████| 782/782 [00:17<00:00, 45.03it/s]\n"
          ]
        },
        {
          "output_type": "stream",
          "name": "stdout",
          "text": [
            "\n",
            "Test set: Average loss: 0.8984, Accuracy: 6895/10000 (68.95%)\n",
            "\n",
            "EPOCH: 27\n"
          ]
        },
        {
          "output_type": "stream",
          "name": "stderr",
          "text": [
            "Loss=0.7138463854789734 Batch_id=781 Accuracy=74.91: 100%|██████████| 782/782 [00:17<00:00, 45.12it/s]\n"
          ]
        },
        {
          "output_type": "stream",
          "name": "stdout",
          "text": [
            "\n",
            "Test set: Average loss: 0.8832, Accuracy: 6905/10000 (69.05%)\n",
            "\n",
            "EPOCH: 28\n"
          ]
        },
        {
          "output_type": "stream",
          "name": "stderr",
          "text": [
            "Loss=1.0548070669174194 Batch_id=781 Accuracy=75.16: 100%|██████████| 782/782 [00:17<00:00, 44.58it/s]\n"
          ]
        },
        {
          "output_type": "stream",
          "name": "stdout",
          "text": [
            "\n",
            "Test set: Average loss: 0.8985, Accuracy: 6824/10000 (68.24%)\n",
            "\n",
            "EPOCH: 29\n"
          ]
        },
        {
          "output_type": "stream",
          "name": "stderr",
          "text": [
            "Loss=0.8349290490150452 Batch_id=781 Accuracy=75.28: 100%|██████████| 782/782 [00:17<00:00, 45.13it/s]\n"
          ]
        },
        {
          "output_type": "stream",
          "name": "stdout",
          "text": [
            "\n",
            "Test set: Average loss: 0.8772, Accuracy: 6964/10000 (69.64%)\n",
            "\n",
            "EPOCH: 30\n"
          ]
        },
        {
          "output_type": "stream",
          "name": "stderr",
          "text": [
            "Loss=1.2025834321975708 Batch_id=781 Accuracy=75.62: 100%|██████████| 782/782 [00:17<00:00, 44.94it/s]\n"
          ]
        },
        {
          "output_type": "stream",
          "name": "stdout",
          "text": [
            "\n",
            "Test set: Average loss: 0.9269, Accuracy: 6778/10000 (67.78%)\n",
            "\n",
            "EPOCH: 31\n"
          ]
        },
        {
          "output_type": "stream",
          "name": "stderr",
          "text": [
            "Loss=1.2949163913726807 Batch_id=781 Accuracy=75.96: 100%|██████████| 782/782 [00:17<00:00, 45.19it/s]\n"
          ]
        },
        {
          "output_type": "stream",
          "name": "stdout",
          "text": [
            "\n",
            "Test set: Average loss: 0.8981, Accuracy: 6857/10000 (68.57%)\n",
            "\n",
            "EPOCH: 32\n"
          ]
        },
        {
          "output_type": "stream",
          "name": "stderr",
          "text": [
            "Loss=0.824410080909729 Batch_id=781 Accuracy=76.26: 100%|██████████| 782/782 [00:17<00:00, 44.71it/s]\n"
          ]
        },
        {
          "output_type": "stream",
          "name": "stdout",
          "text": [
            "\n",
            "Test set: Average loss: 0.9277, Accuracy: 6832/10000 (68.32%)\n",
            "\n",
            "EPOCH: 33\n"
          ]
        },
        {
          "output_type": "stream",
          "name": "stderr",
          "text": [
            "Loss=0.4465758502483368 Batch_id=781 Accuracy=76.72: 100%|██████████| 782/782 [00:17<00:00, 44.90it/s]\n"
          ]
        },
        {
          "output_type": "stream",
          "name": "stdout",
          "text": [
            "\n",
            "Test set: Average loss: 0.8754, Accuracy: 6905/10000 (69.05%)\n",
            "\n",
            "EPOCH: 34\n"
          ]
        },
        {
          "output_type": "stream",
          "name": "stderr",
          "text": [
            "Loss=0.6272165775299072 Batch_id=781 Accuracy=76.72: 100%|██████████| 782/782 [00:17<00:00, 44.80it/s]\n"
          ]
        },
        {
          "output_type": "stream",
          "name": "stdout",
          "text": [
            "\n",
            "Test set: Average loss: 0.8901, Accuracy: 6870/10000 (68.70%)\n",
            "\n",
            "EPOCH: 35\n"
          ]
        },
        {
          "output_type": "stream",
          "name": "stderr",
          "text": [
            "Loss=0.5385871529579163 Batch_id=781 Accuracy=76.88: 100%|██████████| 782/782 [00:17<00:00, 44.86it/s]\n"
          ]
        },
        {
          "output_type": "stream",
          "name": "stdout",
          "text": [
            "\n",
            "Test set: Average loss: 0.9138, Accuracy: 6877/10000 (68.77%)\n",
            "\n",
            "EPOCH: 36\n"
          ]
        },
        {
          "output_type": "stream",
          "name": "stderr",
          "text": [
            "Loss=0.7473531365394592 Batch_id=781 Accuracy=77.26: 100%|██████████| 782/782 [00:17<00:00, 44.85it/s]\n"
          ]
        },
        {
          "output_type": "stream",
          "name": "stdout",
          "text": [
            "\n",
            "Test set: Average loss: 0.8728, Accuracy: 7011/10000 (70.11%)\n",
            "\n",
            "EPOCH: 37\n"
          ]
        },
        {
          "output_type": "stream",
          "name": "stderr",
          "text": [
            "Loss=0.9456766247749329 Batch_id=781 Accuracy=77.74: 100%|██████████| 782/782 [00:17<00:00, 44.98it/s]\n"
          ]
        },
        {
          "output_type": "stream",
          "name": "stdout",
          "text": [
            "\n",
            "Test set: Average loss: 0.9147, Accuracy: 6866/10000 (68.66%)\n",
            "\n",
            "EPOCH: 38\n"
          ]
        },
        {
          "output_type": "stream",
          "name": "stderr",
          "text": [
            "Loss=0.8662534952163696 Batch_id=781 Accuracy=77.59: 100%|██████████| 782/782 [00:17<00:00, 44.91it/s]\n"
          ]
        },
        {
          "output_type": "stream",
          "name": "stdout",
          "text": [
            "\n",
            "Test set: Average loss: 0.9536, Accuracy: 6697/10000 (66.97%)\n",
            "\n",
            "EPOCH: 39\n"
          ]
        },
        {
          "output_type": "stream",
          "name": "stderr",
          "text": [
            "Loss=0.6896198391914368 Batch_id=781 Accuracy=77.90: 100%|██████████| 782/782 [00:17<00:00, 45.09it/s]\n"
          ]
        },
        {
          "output_type": "stream",
          "name": "stdout",
          "text": [
            "\n",
            "Test set: Average loss: 0.9995, Accuracy: 6652/10000 (66.52%)\n",
            "\n",
            "EPOCH: 40\n"
          ]
        },
        {
          "output_type": "stream",
          "name": "stderr",
          "text": [
            "Loss=0.6478124856948853 Batch_id=781 Accuracy=78.08: 100%|██████████| 782/782 [00:17<00:00, 45.00it/s]\n"
          ]
        },
        {
          "output_type": "stream",
          "name": "stdout",
          "text": [
            "\n",
            "Test set: Average loss: 0.9857, Accuracy: 6650/10000 (66.50%)\n",
            "\n",
            "EPOCH: 41\n"
          ]
        },
        {
          "output_type": "stream",
          "name": "stderr",
          "text": [
            "Loss=0.6318029761314392 Batch_id=781 Accuracy=78.47: 100%|██████████| 782/782 [00:17<00:00, 45.05it/s]\n"
          ]
        },
        {
          "output_type": "stream",
          "name": "stdout",
          "text": [
            "\n",
            "Test set: Average loss: 0.8664, Accuracy: 7064/10000 (70.64%)\n",
            "\n",
            "EPOCH: 42\n"
          ]
        },
        {
          "output_type": "stream",
          "name": "stderr",
          "text": [
            "Loss=0.5488612651824951 Batch_id=781 Accuracy=78.57: 100%|██████████| 782/782 [00:17<00:00, 44.72it/s]\n"
          ]
        },
        {
          "output_type": "stream",
          "name": "stdout",
          "text": [
            "\n",
            "Test set: Average loss: 0.9405, Accuracy: 6790/10000 (67.90%)\n",
            "\n",
            "EPOCH: 43\n"
          ]
        },
        {
          "output_type": "stream",
          "name": "stderr",
          "text": [
            "Loss=0.6988289952278137 Batch_id=781 Accuracy=78.82: 100%|██████████| 782/782 [00:17<00:00, 44.87it/s]\n"
          ]
        },
        {
          "output_type": "stream",
          "name": "stdout",
          "text": [
            "\n",
            "Test set: Average loss: 0.8868, Accuracy: 6961/10000 (69.61%)\n",
            "\n",
            "EPOCH: 44\n"
          ]
        },
        {
          "output_type": "stream",
          "name": "stderr",
          "text": [
            "Loss=0.6347399950027466 Batch_id=781 Accuracy=78.97: 100%|██████████| 782/782 [00:17<00:00, 45.02it/s]\n"
          ]
        },
        {
          "output_type": "stream",
          "name": "stdout",
          "text": [
            "\n",
            "Test set: Average loss: 0.8925, Accuracy: 7002/10000 (70.02%)\n",
            "\n",
            "EPOCH: 45\n"
          ]
        },
        {
          "output_type": "stream",
          "name": "stderr",
          "text": [
            "Loss=1.0259042978286743 Batch_id=781 Accuracy=79.02: 100%|██████████| 782/782 [00:17<00:00, 44.88it/s]\n"
          ]
        },
        {
          "output_type": "stream",
          "name": "stdout",
          "text": [
            "\n",
            "Test set: Average loss: 0.9365, Accuracy: 6859/10000 (68.59%)\n",
            "\n",
            "EPOCH: 46\n"
          ]
        },
        {
          "output_type": "stream",
          "name": "stderr",
          "text": [
            "Loss=1.1362940073013306 Batch_id=781 Accuracy=79.28: 100%|██████████| 782/782 [00:17<00:00, 44.99it/s]\n"
          ]
        },
        {
          "output_type": "stream",
          "name": "stdout",
          "text": [
            "\n",
            "Test set: Average loss: 0.8786, Accuracy: 7034/10000 (70.34%)\n",
            "\n",
            "EPOCH: 47\n"
          ]
        },
        {
          "output_type": "stream",
          "name": "stderr",
          "text": [
            "Loss=0.6115206480026245 Batch_id=781 Accuracy=79.56: 100%|██████████| 782/782 [00:17<00:00, 44.83it/s]\n"
          ]
        },
        {
          "output_type": "stream",
          "name": "stdout",
          "text": [
            "\n",
            "Test set: Average loss: 0.8999, Accuracy: 6942/10000 (69.42%)\n",
            "\n",
            "EPOCH: 48\n"
          ]
        },
        {
          "output_type": "stream",
          "name": "stderr",
          "text": [
            "Loss=0.6903827786445618 Batch_id=781 Accuracy=79.55: 100%|██████████| 782/782 [00:17<00:00, 44.93it/s]\n"
          ]
        },
        {
          "output_type": "stream",
          "name": "stdout",
          "text": [
            "\n",
            "Test set: Average loss: 0.9046, Accuracy: 6994/10000 (69.94%)\n",
            "\n",
            "EPOCH: 49\n"
          ]
        },
        {
          "output_type": "stream",
          "name": "stderr",
          "text": [
            "Loss=0.7483957409858704 Batch_id=781 Accuracy=79.97: 100%|██████████| 782/782 [00:17<00:00, 44.85it/s]\n"
          ]
        },
        {
          "output_type": "stream",
          "name": "stdout",
          "text": [
            "\n",
            "Test set: Average loss: 0.8759, Accuracy: 7013/10000 (70.13%)\n",
            "\n",
            "EPOCH: 50\n"
          ]
        },
        {
          "output_type": "stream",
          "name": "stderr",
          "text": [
            "Loss=0.8158422112464905 Batch_id=781 Accuracy=79.94: 100%|██████████| 782/782 [00:17<00:00, 44.99it/s]\n"
          ]
        },
        {
          "output_type": "stream",
          "name": "stdout",
          "text": [
            "\n",
            "Test set: Average loss: 0.9071, Accuracy: 6926/10000 (69.26%)\n",
            "\n",
            "EPOCH: 51\n"
          ]
        },
        {
          "output_type": "stream",
          "name": "stderr",
          "text": [
            "Loss=0.8505567312240601 Batch_id=781 Accuracy=80.39: 100%|██████████| 782/782 [00:17<00:00, 44.71it/s]\n"
          ]
        },
        {
          "output_type": "stream",
          "name": "stdout",
          "text": [
            "\n",
            "Test set: Average loss: 0.9128, Accuracy: 6973/10000 (69.73%)\n",
            "\n",
            "EPOCH: 52\n"
          ]
        },
        {
          "output_type": "stream",
          "name": "stderr",
          "text": [
            "Loss=0.4680320620536804 Batch_id=781 Accuracy=80.48: 100%|██████████| 782/782 [00:17<00:00, 44.83it/s]\n"
          ]
        },
        {
          "output_type": "stream",
          "name": "stdout",
          "text": [
            "\n",
            "Test set: Average loss: 0.9380, Accuracy: 6875/10000 (68.75%)\n",
            "\n",
            "EPOCH: 53\n"
          ]
        },
        {
          "output_type": "stream",
          "name": "stderr",
          "text": [
            "Loss=0.4876352548599243 Batch_id=781 Accuracy=80.70: 100%|██████████| 782/782 [00:17<00:00, 44.69it/s]\n"
          ]
        },
        {
          "output_type": "stream",
          "name": "stdout",
          "text": [
            "\n",
            "Test set: Average loss: 0.9432, Accuracy: 6859/10000 (68.59%)\n",
            "\n",
            "EPOCH: 54\n"
          ]
        },
        {
          "output_type": "stream",
          "name": "stderr",
          "text": [
            "Loss=1.3469887971878052 Batch_id=781 Accuracy=80.70: 100%|██████████| 782/782 [00:17<00:00, 45.16it/s]\n"
          ]
        },
        {
          "output_type": "stream",
          "name": "stdout",
          "text": [
            "\n",
            "Test set: Average loss: 0.9114, Accuracy: 6938/10000 (69.38%)\n",
            "\n",
            "EPOCH: 55\n"
          ]
        },
        {
          "output_type": "stream",
          "name": "stderr",
          "text": [
            "Loss=0.5349862575531006 Batch_id=781 Accuracy=80.86: 100%|██████████| 782/782 [00:17<00:00, 44.61it/s]\n"
          ]
        },
        {
          "output_type": "stream",
          "name": "stdout",
          "text": [
            "\n",
            "Test set: Average loss: 0.9106, Accuracy: 6951/10000 (69.51%)\n",
            "\n",
            "EPOCH: 56\n"
          ]
        },
        {
          "output_type": "stream",
          "name": "stderr",
          "text": [
            "Loss=0.5878111124038696 Batch_id=781 Accuracy=81.26: 100%|██████████| 782/782 [00:17<00:00, 45.04it/s]\n"
          ]
        },
        {
          "output_type": "stream",
          "name": "stdout",
          "text": [
            "\n",
            "Test set: Average loss: 0.9332, Accuracy: 6892/10000 (68.92%)\n",
            "\n",
            "EPOCH: 57\n"
          ]
        },
        {
          "output_type": "stream",
          "name": "stderr",
          "text": [
            "Loss=0.9019747376441956 Batch_id=781 Accuracy=81.32: 100%|██████████| 782/782 [00:17<00:00, 45.01it/s]\n"
          ]
        },
        {
          "output_type": "stream",
          "name": "stdout",
          "text": [
            "\n",
            "Test set: Average loss: 0.9311, Accuracy: 6910/10000 (69.10%)\n",
            "\n",
            "EPOCH: 58\n"
          ]
        },
        {
          "output_type": "stream",
          "name": "stderr",
          "text": [
            "Loss=0.6994633078575134 Batch_id=781 Accuracy=81.50: 100%|██████████| 782/782 [00:17<00:00, 44.90it/s]\n"
          ]
        },
        {
          "output_type": "stream",
          "name": "stdout",
          "text": [
            "\n",
            "Test set: Average loss: 0.9400, Accuracy: 6912/10000 (69.12%)\n",
            "\n",
            "EPOCH: 59\n"
          ]
        },
        {
          "output_type": "stream",
          "name": "stderr",
          "text": [
            "Loss=0.8398635387420654 Batch_id=781 Accuracy=81.65: 100%|██████████| 782/782 [00:17<00:00, 44.96it/s]\n"
          ]
        },
        {
          "output_type": "stream",
          "name": "stdout",
          "text": [
            "\n",
            "Test set: Average loss: 0.9490, Accuracy: 6887/10000 (68.87%)\n",
            "\n"
          ]
        }
      ]
    }
  ]
}